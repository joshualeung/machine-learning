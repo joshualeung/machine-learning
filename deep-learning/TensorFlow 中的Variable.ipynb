{
 "cells": [
  {
   "cell_type": "markdown",
   "metadata": {},
   "source": [
    "参考: https://www.tensorflow.org/programmers_guide/variables\n",
    "\n",
    "## Variable\n",
    "在 TensorFlow 中，Variable是表示共享、持久状态的最佳方式。它通过 tf.Variable 对象来表示。tf.Variable 表示一个可以通过操作(ops)来改变其值的 Tensor.\n",
    "\n",
    "对 tf.Variable 的个性可以跨越多个 Session, 因为可以在不同的 Worker中个性同一个 Variable。\n",
    "\n",
    "创建 Variable 的最佳方式是调用 tf.get_variable 方法。"
   ]
  },
  {
   "cell_type": "code",
   "execution_count": null,
   "metadata": {
    "scrolled": true
   },
   "outputs": [],
   "source": [
    "my_int_variable = tf.get_variable(\"my_int_variable\", [1, 2, 3], dtype=tf.int32, \n",
    "  initializer=tf.zeros_initializer)"
   ]
  },
  {
   "cell_type": "markdown",
   "metadata": {},
   "source": [
    "其中，dtype 默认为 tf.float32, initializer 默认为`tf.glorot_uniform_initializer`"
   ]
  },
  {
   "cell_type": "markdown",
   "metadata": {},
   "source": [
    "也可以将一个 Tensor 作为 initializer, 这时，不可以再指定 shape"
   ]
  },
  {
   "cell_type": "code",
   "execution_count": null,
   "metadata": {
    "collapsed": true
   },
   "outputs": [],
   "source": [
    "other_variable = tf.get_variable(\"other_variable\", dtype=tf.int32, \n",
    "  initializer=tf.constant([23, 42]))"
   ]
  },
  {
   "cell_type": "markdown",
   "metadata": {},
   "source": [
    "## Variable Collections"
   ]
  },
  {
   "cell_type": "markdown",
   "metadata": {},
   "source": [
    "TensorFlow 通过 collections 提供对变量的全局访问。默认情况下，对于变量维护两个列表，即`tf.GraphKeys.GLOBAL_VARIABLES`和`tf.GraphKeys.TRAINABLE_VARIABLES`"
   ]
  },
  {
   "cell_type": "markdown",
   "metadata": {},
   "source": [
    "如何不想让一个 Variable 变得 trainnable, 可以通过如下方式指定"
   ]
  },
  {
   "cell_type": "code",
   "execution_count": null,
   "metadata": {
    "collapsed": true
   },
   "outputs": [],
   "source": [
    "my_local = tf.get_variable(\"my_local\", shape=(), \n",
    "collections=[tf.GraphKeys.LOCAL_VARIABLES])\n",
    "\n",
    "# 也可以这样\n",
    "my_non_trainable = tf.get_variable(\"my_non_trainable\", \n",
    "                                   shape=(), \n",
    "                                   trainable=False)"
   ]
  },
  {
   "cell_type": "markdown",
   "metadata": {},
   "source": [
    "也可以创建和维护自己的 collection"
   ]
  },
  {
   "cell_type": "code",
   "execution_count": null,
   "metadata": {
    "collapsed": true
   },
   "outputs": [],
   "source": [
    "tf.add_to_collection(\"my_collection_name\", my_local)\n",
    "# 获取之\n",
    "tf.get_collection(\"my_collection_name\")"
   ]
  },
  {
   "cell_type": "markdown",
   "metadata": {},
   "source": [
    "可以指定将变量放置在指定的设备上"
   ]
  },
  {
   "cell_type": "code",
   "execution_count": null,
   "metadata": {
    "collapsed": true
   },
   "outputs": [],
   "source": [
    "with tf.device(\"/gpu:1\"):\n",
    "  v = tf.get_variable(\"v\", [1])"
   ]
  },
  {
   "cell_type": "markdown",
   "metadata": {},
   "source": [
    "` tf.train.replica_device_setter`可以用来将变量自动放置到参数服务器上。"
   ]
  },
  {
   "cell_type": "code",
   "execution_count": 11,
   "metadata": {
    "scrolled": false
   },
   "outputs": [
    {
     "data": {
      "text/plain": [
       "(<tf.Variable 'a:0' shape=(1,) dtype=float32_ref>,\n",
       " <tf.Variable 'a_1:0' shape=(1,) dtype=float32_ref>)"
      ]
     },
     "execution_count": 11,
     "metadata": {},
     "output_type": "execute_result"
    }
   ],
   "source": [
    "cluster_spec = {\n",
    "    \"ps\": [\"ps0:2222\", \"ps1:2222\"],\n",
    "    \"worker\": [\"worker0:2222\", \"worker1:2222\", \"worker2:2222\"]}\n",
    "with tf.device(tf.train.replica_device_setter(cluster=cluster_spec)):\n",
    "    v = tf.get_variable(\"v\", shape=[20, 20])  # this variable is placed \n",
    "                                            # in the parameter server\n",
    "                                            # by the replica_device_setter"
   ]
  },
  {
   "cell_type": "code",
   "execution_count": null,
   "metadata": {
    "collapsed": true
   },
   "outputs": [],
   "source": []
  },
  {
   "cell_type": "markdown",
   "metadata": {},
   "source": [
    "## 变量的初始化"
   ]
  },
  {
   "cell_type": "markdown",
   "metadata": {},
   "source": [
    "所有的变量在使用之前都必须初始化。如果你使用的是底层的 API， 初始化需要显示指定。如果使用的是上层的 API，比如`tf.contrib.slim`, `tf.estimator.Estimator`, `Keras`, 变量的初始化则是自动进行的。\n",
    "\n",
    ">TODO: Explicit initialization is otherwise useful because it allows you not to rerun potentially expensive initializers when reloading a model from a checkpoint as well as allowing determinism when randomly-initialized variables are shared in a distributed setting."
   ]
  },
  {
   "cell_type": "markdown",
   "metadata": {},
   "source": [
    "如果要一次性初始化所有可训练的变量，则在开始训练之前执行`tf.global_variables_initializer()`即可。\n",
    "\n",
    "### 注意 \n",
    "** `tf.global_variables_initializer()` 并不保证初始化是有序的！**"
   ]
  },
  {
   "cell_type": "code",
   "execution_count": null,
   "metadata": {},
   "outputs": [],
   "source": [
    "# 对 tf.GraphKeys.GLOBAL_VARIABLES 中的所有变量进行初始化\n",
    "session.run(tf.global_variables_initializer())\n",
    "# Now all variables are initialized."
   ]
  },
  {
   "cell_type": "markdown",
   "metadata": {},
   "source": [
    "如果需要初始化指定的变量:"
   ]
  },
  {
   "cell_type": "code",
   "execution_count": null,
   "metadata": {
    "collapsed": true
   },
   "outputs": [],
   "source": [
    "session.run(my_variable.initializer)"
   ]
  },
  {
   "cell_type": "markdown",
   "metadata": {},
   "source": [
    "也可以这样查询哪些变量还没有被初始化"
   ]
  },
  {
   "cell_type": "code",
   "execution_count": null,
   "metadata": {
    "collapsed": true
   },
   "outputs": [],
   "source": [
    "print(session.run(tf.report_uninitialized_variables()))"
   ]
  },
  {
   "cell_type": "markdown",
   "metadata": {},
   "source": [
    "不过，下面这段话没看懂:\n",
    "```python\n",
    "v = tf.get_variable(\"v\", shape=(), initializer=tf.zeros_initializer())\n",
    "w = tf.get_variable(\"w\", initializer=v.initialized_value() + 1)\n",
    "```"
   ]
  },
  {
   "cell_type": "markdown",
   "metadata": {},
   "source": [
    "## 使用变量"
   ]
  },
  {
   "cell_type": "code",
   "execution_count": 1,
   "metadata": {
    "collapsed": true
   },
   "outputs": [],
   "source": [
    "import tensorflow as tf\n",
    "sess = tf.Session()"
   ]
  },
  {
   "cell_type": "markdown",
   "metadata": {},
   "source": [
    "要使用变量的值，就将它当作一个普通的 Tensor 就好了:\n",
    "```python\n",
    "v = tf.get_variable(\"v\", shape=(), initializer=tf.zeros_initializer())\n",
    "w = v + 1  # w is a tf.Tensor which is computed based on the value of v.\n",
    "           # Any time a variable is used in an expression it gets automatically\n",
    "           # converted to a tf.Tensor representing its value.\n",
    "```"
   ]
  },
  {
   "cell_type": "markdown",
   "metadata": {},
   "source": [
    "给变量赋值"
   ]
  },
  {
   "cell_type": "code",
   "execution_count": 2,
   "metadata": {},
   "outputs": [
    {
     "name": "stdout",
     "output_type": "stream",
     "text": [
      "[1.0, 1.0]\n"
     ]
    }
   ],
   "source": [
    "v = tf.get_variable(\"v\", shape=(), initializer=tf.zeros_initializer())\n",
    "assignment = v.assign_add(1)\n",
    "\n",
    "sess.run(tf.global_variables_initializer())\n",
    "print sess.run([assignment, v])"
   ]
  },
  {
   "cell_type": "markdown",
   "metadata": {},
   "source": [
    "`v.assign_add`返回的是一个包含变量赋值后的值的 Tensor."
   ]
  },
  {
   "cell_type": "markdown",
   "metadata": {},
   "source": [
    ">对于官网上下面这段代码我也不是很理解。我的理解是， w 应该保存的是固定的值？可是实际运行来看，assignment, assignment2和 w 的值是一样的，指向的应该是同一个 Tensor."
   ]
  },
  {
   "cell_type": "code",
   "execution_count": 2,
   "metadata": {
    "collapsed": true
   },
   "outputs": [],
   "source": [
    "v = tf.get_variable(\"v\", shape=(), initializer=tf.zeros_initializer())\n",
    "assignment = v.assign_add(1)\n",
    "with tf.control_dependencies([assignment]):\n",
    "  w = v.read_value()  # w is guaranteed to reflect v's value after the\n",
    "                      # assign_add operation."
   ]
  },
  {
   "cell_type": "code",
   "execution_count": 4,
   "metadata": {},
   "outputs": [
    {
     "data": {
      "text/plain": [
       "1.0"
      ]
     },
     "execution_count": 4,
     "metadata": {},
     "output_type": "execute_result"
    }
   ],
   "source": [
    "sess.run(tf.global_variables_initializer())\n",
    "sess.run(w)"
   ]
  },
  {
   "cell_type": "code",
   "execution_count": 6,
   "metadata": {},
   "outputs": [],
   "source": [
    "assignment2 = v.assign_add(1)"
   ]
  },
  {
   "cell_type": "code",
   "execution_count": 14,
   "metadata": {},
   "outputs": [
    {
     "data": {
      "text/plain": [
       "[14.0, 14.0, 14.0]"
      ]
     },
     "execution_count": 14,
     "metadata": {},
     "output_type": "execute_result"
    }
   ],
   "source": [
    "sess.run([assignment, assignment2, w])"
   ]
  },
  {
   "cell_type": "markdown",
   "metadata": {},
   "source": [
    "## 变量域"
   ]
  },
  {
   "cell_type": "markdown",
   "metadata": {},
   "source": [
    "在 TensorFlow 中，变量的名称也是以类似目录的形式组织的, 并支持多级嵌套。例如，在以下代码中，变量的名称遵从 `scope 名称/变量名称:序号` 的形式。"
   ]
  },
  {
   "cell_type": "code",
   "execution_count": 15,
   "metadata": {},
   "outputs": [
    {
     "name": "stdout",
     "output_type": "stream",
     "text": [
      "scope1/scope2/variable1:0\n"
     ]
    }
   ],
   "source": [
    "#import tensorflow\n",
    "import tensorflow as tf\n",
    "#open a variable scope named 'scope1'\n",
    "with tf.variable_scope(\"scope1\"):\n",
    "    #open a nested scope name 'scope2'\n",
    "    with tf.variable_scope(\"scope2\"):\n",
    "        #add a new variable to the graph\n",
    "        var=tf.get_variable(\"variable1\",[1])\n",
    "#print the name of variable\n",
    "print(var.name)"
   ]
  },
  {
   "cell_type": "markdown",
   "metadata": {},
   "source": [
    "在`tf.variable_scope`中调用 `get_variable`即可以用来创建变量，也可以用来复用已有的变量。"
   ]
  },
  {
   "cell_type": "markdown",
   "metadata": {},
   "source": [
    "## 权重共享"
   ]
  },
  {
   "cell_type": "code",
   "execution_count": null,
   "metadata": {
    "scrolled": true
   },
   "outputs": [],
   "source": [
    "#import tensorflow\n",
    "import tensorflow as tf\n",
    "#open a variable scope named 'scope1'\n",
    "with tf.variable_scope(\"scope1\"):\n",
    "    #declare a variable named variable1\n",
    "    var1 = tf.get_variable(\"variable1\",[1])\n",
    "    #declare another variable with same name\n",
    "    var2=tf.get_variable(\"variable1\",[1])"
   ]
  },
  {
   "cell_type": "markdown",
   "metadata": {},
   "source": [
    "运行以上代码会抛异常:\n",
    "```\n",
    "ValueError: Variable scope1/variable1 already exists, disallowed. Did you mean to set reuse=True in VarScope? \n",
    "```\n",
    "\n",
    "因为已经在 scope1中定义了一个名为 variable1的变量，而且 variable_scope 的 reuse flag 默认是 False 的。"
   ]
  },
  {
   "cell_type": "markdown",
   "metadata": {},
   "source": [
    "要共享变量，可以在调用`variable_scope`时，将其 reuse 参数设置为 True"
   ]
  },
  {
   "cell_type": "code",
   "execution_count": 6,
   "metadata": {},
   "outputs": [],
   "source": [
    "#import tensorflow\n",
    "import tensorflow as tf\n",
    "#open a variable scope named 'scope1'\n",
    "with tf.variable_scope(\"scope1\", reuse = True):\n",
    "    #declare a variable named variable1\n",
    "    var1 = tf.get_variable(\"variable1\",[1])\n",
    "    #declare another variable with same name\n",
    "    var2=tf.get_variable(\"variable1\",[1])\n",
    "    assert var1 == var2"
   ]
  },
  {
   "cell_type": "markdown",
   "metadata": {},
   "source": [
    "另一种方法是显示调用"
   ]
  },
  {
   "cell_type": "code",
   "execution_count": 1,
   "metadata": {},
   "outputs": [],
   "source": [
    "#import tensorflow\n",
    "import tensorflow as tf\n",
    "#open a variable scope named 'scope1'\n",
    "with tf.variable_scope(\"scope1\"):\n",
    "    #declare a variable named variable1\n",
    "    var1 = tf.get_variable(\"variable1\",[1])\n",
    "    tf.get_variable_scope().reuse_variables()\n",
    "    assert tf.get_variable_scope().reuse == True\n",
    "    #declare another variable with same name\n",
    "    var2=tf.get_variable(\"variable1\",[1])\n",
    "    assert var1 == var2"
   ]
  },
  {
   "cell_type": "markdown",
   "metadata": {},
   "source": [
    "以上代码会正常运行，且不会抛任何异常。"
   ]
  },
  {
   "cell_type": "markdown",
   "metadata": {},
   "source": [
    "## name_scope vs variable_scope"
   ]
  },
  {
   "cell_type": "code",
   "execution_count": 1,
   "metadata": {},
   "outputs": [
    {
     "data": {
      "text/plain": [
       "(<tf.Variable 'sp1/v1:0' shape=(1,) dtype=float32_ref>,\n",
       " <tf.Tensor 'sp1/add:0' shape=(1,) dtype=float32>)"
      ]
     },
     "execution_count": 1,
     "metadata": {},
     "output_type": "execute_result"
    }
   ],
   "source": [
    "import tensorflow as tf\n",
    "with tf.variable_scope(\"sp1\"):\n",
    "    v1 = tf.get_variable(\"v1\", [1])\n",
    "    v2 = v1 + 2\n",
    "v1, v2"
   ]
  },
  {
   "cell_type": "code",
   "execution_count": 1,
   "metadata": {},
   "outputs": [
    {
     "data": {
      "text/plain": [
       "(<tf.Variable 'v1:0' shape=(1,) dtype=float32_ref>,\n",
       " <tf.Tensor 'sp1/add:0' shape=(1,) dtype=float32>)"
      ]
     },
     "execution_count": 1,
     "metadata": {},
     "output_type": "execute_result"
    }
   ],
   "source": [
    "import tensorflow as tf\n",
    "with tf.name_scope(\"sp1\"):\n",
    "    v1 = tf.get_variable(\"v1\", [1])\n",
    "    v2 = v1 + 2\n",
    "v1, v2"
   ]
  },
  {
   "cell_type": "code",
   "execution_count": null,
   "metadata": {
    "collapsed": true
   },
   "outputs": [],
   "source": []
  }
 ],
 "metadata": {
  "kernelspec": {
   "display_name": "Python 2",
   "language": "python",
   "name": "python2"
  },
  "language_info": {
   "codemirror_mode": {
    "name": "ipython",
    "version": 2
   },
   "file_extension": ".py",
   "mimetype": "text/x-python",
   "name": "python",
   "nbconvert_exporter": "python",
   "pygments_lexer": "ipython2",
   "version": "2.7.10"
  }
 },
 "nbformat": 4,
 "nbformat_minor": 2
}
